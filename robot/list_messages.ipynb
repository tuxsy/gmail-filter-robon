{
 "cells": [
  {
   "cell_type": "code",
   "execution_count": 1,
   "id": "607ef9ca",
   "metadata": {},
   "outputs": [],
   "source": [
    "from gmailfilterrobot import GmailRobot\n",
    "\n",
    "robot = GmailRobot()"
   ]
  },
  {
   "cell_type": "code",
   "execution_count": 2,
   "id": "9dcd75e9",
   "metadata": {},
   "outputs": [
    {
     "data": {
      "text/plain": [
       "[{'id': '1849ed9853073892', 'threadId': '1849ed9853073892'},\n",
       " {'id': '1849e6770fda587c', 'threadId': '1849e6770fda587c'},\n",
       " {'id': '18467f18b0a8f5b7', 'threadId': '18467f18b0a8f5b7'},\n",
       " {'id': '184676c10479114a', 'threadId': '184676c10479114a'},\n",
       " {'id': '1846704254444543', 'threadId': '1846704254444543'}]"
      ]
     },
     "execution_count": 2,
     "metadata": {},
     "output_type": "execute_result"
    }
   ],
   "source": [
    "messages = robot.list_messages()\n",
    "messages"
   ]
  },
  {
   "cell_type": "code",
   "execution_count": 3,
   "id": "f826a4d0",
   "metadata": {},
   "outputs": [
    {
     "name": "stdout",
     "output_type": "stream",
     "text": [
      "hola@pabloherreros.com\n",
      "communications@sencha.com\n",
      "\tApply Label & Mark as read\n",
      "no-reply@cleverbridge.com\n",
      "noreply@app.iebschool.com\n",
      "hola@emowe.com\n"
     ]
    }
   ],
   "source": [
    "blacklist = [\n",
    "    \"communications@sencha.com\"\n",
    "]\n",
    "\n",
    "for m in messages:\n",
    "    message = robot.get_message(m[\"id\"])\n",
    "    sender = message.get_sender()\n",
    "    print(sender)\n",
    "    if sender in blacklist:\n",
    "        print(\"\\tApply Label & Mark as read\")"
   ]
  },
  {
   "cell_type": "code",
   "execution_count": null,
   "id": "a4f3f8c3",
   "metadata": {},
   "outputs": [],
   "source": []
  }
 ],
 "metadata": {
  "kernelspec": {
   "display_name": "Python 3 (ipykernel)",
   "language": "python",
   "name": "python3"
  },
  "language_info": {
   "codemirror_mode": {
    "name": "ipython",
    "version": 3
   },
   "file_extension": ".py",
   "mimetype": "text/x-python",
   "name": "python",
   "nbconvert_exporter": "python",
   "pygments_lexer": "ipython3",
   "version": "3.9.6"
  },
  "toc": {
   "base_numbering": 1,
   "nav_menu": {},
   "number_sections": true,
   "sideBar": true,
   "skip_h1_title": false,
   "title_cell": "Table of Contents",
   "title_sidebar": "Contents",
   "toc_cell": false,
   "toc_position": {},
   "toc_section_display": true,
   "toc_window_display": false
  }
 },
 "nbformat": 4,
 "nbformat_minor": 5
}
